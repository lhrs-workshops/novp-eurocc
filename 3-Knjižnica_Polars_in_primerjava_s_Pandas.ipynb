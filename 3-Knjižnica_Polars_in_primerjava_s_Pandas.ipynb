{
 "cells": [
  {
   "cell_type": "markdown",
   "metadata": {},
   "source": [
    "# Knjižnica Polars in primerjava s Pandas\n",
    "\n",
    "Do zdaj ste že dobro spoznali knjižnico Pandas, ki je najpogosteje uporabljena knjižnica za delo s podatki, v tej enoti pa boste spoznali še knjižnico Polars. Knjižnica Polars je alternativa knjižnici Pandas ponuja pa nekaj izboljšav, ki se predvsem odražajo v hitrosti delovanja funkcionalnosti knjižnice. Gre torej za pohitritve nalaganja, shranjevanja in obdelave podatkov, kar je vedno dobrodošlo pri obdelavi velepodatkov. V nadaljevanju bomo na primerih primerjali delo s Polars in Pandas in ugotavljali posebnosti knjižnice Polars."
   ]
  },
  {
   "cell_type": "markdown",
   "metadata": {},
   "source": [
    "## Namestitev Polars\n",
    "\n",
    "Knjižnico Polars namestimo kot vsako drugo knjižnico za programski jezik Python. Za namestitev uporabimo orodje ``pip``, pri uporabi pa ponavadi uporabimo alias ``pl`` (podobno kot pri Pandas uporabimo alias ``pd``)."
   ]
  },
  {
   "cell_type": "code",
   "execution_count": null,
   "metadata": {},
   "outputs": [],
   "source": [
    "%pip install polars --quiet"
   ]
  },
  {
   "cell_type": "code",
   "execution_count": 2,
   "metadata": {},
   "outputs": [],
   "source": [
    "import pandas as pd\n",
    "import polars as pl # alias knjižnice Polars"
   ]
  },
  {
   "cell_type": "markdown",
   "metadata": {},
   "source": [
    "## Delo s Polars in primerjava s Pandas\n",
    "\n",
    "Ena najboljših lastnosti knjižnice Polars je to, da so imena funkcij v veliki večini enaka kot v knjižnici Pandas. V praksi to pomeni, da lahko delo s knjižnico Polars na obstoječi programski kodi za Pandas zelo enostavno migriramo. To naredimo tako, da v naši programski kodi samo zamenjamo alias. Poglejmo si primer nalaganja manjše datoteke CSV v Pandas in Polars."
   ]
  },
  {
   "cell_type": "code",
   "execution_count": 14,
   "metadata": {},
   "outputs": [],
   "source": [
    "import numpy as np\n",
    "\n",
    "def generate_data(size):\n",
    "    df = pd.DataFrame()\n",
    "    df['Polozaj'] = np.random.choice(['levo', 'sredina', 'desno'], size)\n",
    "    df['Starost'] = np.random.randint(18, 50, size)\n",
    "    df['Ekipa'] = np.random.choice(['rdeča', 'modra', 'rumena', 'zelena'], size)\n",
    "    df['Zmaga'] = np.random.choice(['da', 'ne'], size)\n",
    "    df['Verjetnost'] = np.random.uniform(0, 1, size)\n",
    "    return df\n",
    "\n",
    "def optimize_types(df):\n",
    "    df['Polozaj'] = df['Polozaj'].astype('category')\n",
    "    df['Ekipa'] = df['Ekipa'].astype('category')\n",
    "    df['Starost'] = df['Starost'].astype('uint8')\n",
    "    df['Verjetnost'] = df['Verjetnost'].astype('float32')\n",
    "    df['Zmaga'].map({'da': True, 'ne': False})\n",
    "    return df\n",
    "\n",
    "df = optimize_types(generate_data(10_000_000))\n",
    "df.to_csv('dataset_csv.csv', index=False)"
   ]
  },
  {
   "cell_type": "code",
   "execution_count": 3,
   "metadata": {},
   "outputs": [
    {
     "name": "stdout",
     "output_type": "stream",
     "text": [
      "CPU times: total: 1 s\n",
      "Wall time: 2.59 s\n",
      "<class 'pandas.core.frame.DataFrame'>\n",
      "RangeIndex: 10000000 entries, 0 to 9999999\n",
      "Data columns (total 5 columns):\n",
      " #   Column      Dtype  \n",
      "---  ------      -----  \n",
      " 0   Polozaj     object \n",
      " 1   Starost     int64  \n",
      " 2   Ekipa       object \n",
      " 3   Zmaga       object \n",
      " 4   Verjetnost  float64\n",
      "dtypes: float64(1), int64(1), object(3)\n",
      "memory usage: 381.5+ MB\n"
     ]
    },
    {
     "data": {
      "text/html": [
       "<div>\n",
       "<style scoped>\n",
       "    .dataframe tbody tr th:only-of-type {\n",
       "        vertical-align: middle;\n",
       "    }\n",
       "\n",
       "    .dataframe tbody tr th {\n",
       "        vertical-align: top;\n",
       "    }\n",
       "\n",
       "    .dataframe thead th {\n",
       "        text-align: right;\n",
       "    }\n",
       "</style>\n",
       "<table border=\"1\" class=\"dataframe\">\n",
       "  <thead>\n",
       "    <tr style=\"text-align: right;\">\n",
       "      <th></th>\n",
       "      <th>Polozaj</th>\n",
       "      <th>Starost</th>\n",
       "      <th>Ekipa</th>\n",
       "      <th>Zmaga</th>\n",
       "      <th>Verjetnost</th>\n",
       "    </tr>\n",
       "  </thead>\n",
       "  <tbody>\n",
       "    <tr>\n",
       "      <th>0</th>\n",
       "      <td>sredina</td>\n",
       "      <td>41</td>\n",
       "      <td>modra</td>\n",
       "      <td>ne</td>\n",
       "      <td>0.681433</td>\n",
       "    </tr>\n",
       "    <tr>\n",
       "      <th>1</th>\n",
       "      <td>desno</td>\n",
       "      <td>35</td>\n",
       "      <td>rdeča</td>\n",
       "      <td>ne</td>\n",
       "      <td>0.938699</td>\n",
       "    </tr>\n",
       "    <tr>\n",
       "      <th>2</th>\n",
       "      <td>levo</td>\n",
       "      <td>23</td>\n",
       "      <td>modra</td>\n",
       "      <td>ne</td>\n",
       "      <td>0.445838</td>\n",
       "    </tr>\n",
       "    <tr>\n",
       "      <th>3</th>\n",
       "      <td>levo</td>\n",
       "      <td>46</td>\n",
       "      <td>zelena</td>\n",
       "      <td>ne</td>\n",
       "      <td>0.819481</td>\n",
       "    </tr>\n",
       "    <tr>\n",
       "      <th>4</th>\n",
       "      <td>levo</td>\n",
       "      <td>44</td>\n",
       "      <td>rumena</td>\n",
       "      <td>da</td>\n",
       "      <td>0.170575</td>\n",
       "    </tr>\n",
       "  </tbody>\n",
       "</table>\n",
       "</div>"
      ],
      "text/plain": [
       "   Polozaj  Starost   Ekipa Zmaga  Verjetnost\n",
       "0  sredina       41   modra    ne    0.681433\n",
       "1    desno       35   rdeča    ne    0.938699\n",
       "2     levo       23   modra    ne    0.445838\n",
       "3     levo       46  zelena    ne    0.819481\n",
       "4     levo       44  rumena    da    0.170575"
      ]
     },
     "execution_count": 3,
     "metadata": {},
     "output_type": "execute_result"
    }
   ],
   "source": [
    "# nalaganje podatkov s Pandas\n",
    "%time df_pandas = pd.read_csv('dataset_csv.csv') # vrne Pandas DataFrame\n",
    "\n",
    "df_pandas.info()\n",
    "df_pandas.head()"
   ]
  },
  {
   "cell_type": "code",
   "execution_count": 11,
   "metadata": {},
   "outputs": [
    {
     "name": "stdout",
     "output_type": "stream",
     "text": [
      "CPU times: total: 1.98 s\n",
      "Wall time: 155 ms\n"
     ]
    },
    {
     "data": {
      "text/html": [
       "<div><style>\n",
       ".dataframe > thead > tr,\n",
       ".dataframe > tbody > tr {\n",
       "  text-align: right;\n",
       "  white-space: pre-wrap;\n",
       "}\n",
       "</style>\n",
       "<small>shape: (5, 5)</small><table border=\"1\" class=\"dataframe\"><thead><tr><th>Polozaj</th><th>Starost</th><th>Ekipa</th><th>Zmaga</th><th>Verjetnost</th></tr><tr><td>str</td><td>i64</td><td>str</td><td>str</td><td>f64</td></tr></thead><tbody><tr><td>&quot;sredina&quot;</td><td>41</td><td>&quot;modra&quot;</td><td>&quot;ne&quot;</td><td>0.6814334</td></tr><tr><td>&quot;desno&quot;</td><td>35</td><td>&quot;rdeča&quot;</td><td>&quot;ne&quot;</td><td>0.938699</td></tr><tr><td>&quot;levo&quot;</td><td>23</td><td>&quot;modra&quot;</td><td>&quot;ne&quot;</td><td>0.445838</td></tr><tr><td>&quot;levo&quot;</td><td>46</td><td>&quot;zelena&quot;</td><td>&quot;ne&quot;</td><td>0.8194815</td></tr><tr><td>&quot;levo&quot;</td><td>44</td><td>&quot;rumena&quot;</td><td>&quot;da&quot;</td><td>0.1705755</td></tr></tbody></table></div>"
      ],
      "text/plain": [
       "shape: (5, 5)\n",
       "┌─────────┬─────────┬────────┬───────┬────────────┐\n",
       "│ Polozaj ┆ Starost ┆ Ekipa  ┆ Zmaga ┆ Verjetnost │\n",
       "│ ---     ┆ ---     ┆ ---    ┆ ---   ┆ ---        │\n",
       "│ str     ┆ i64     ┆ str    ┆ str   ┆ f64        │\n",
       "╞═════════╪═════════╪════════╪═══════╪════════════╡\n",
       "│ sredina ┆ 41      ┆ modra  ┆ ne    ┆ 0.6814334  │\n",
       "│ desno   ┆ 35      ┆ rdeča  ┆ ne    ┆ 0.938699   │\n",
       "│ levo    ┆ 23      ┆ modra  ┆ ne    ┆ 0.445838   │\n",
       "│ levo    ┆ 46      ┆ zelena ┆ ne    ┆ 0.8194815  │\n",
       "│ levo    ┆ 44      ┆ rumena ┆ da    ┆ 0.1705755  │\n",
       "└─────────┴─────────┴────────┴───────┴────────────┘"
      ]
     },
     "execution_count": 11,
     "metadata": {},
     "output_type": "execute_result"
    }
   ],
   "source": [
    "# nalaganje podatkov s Polars\n",
    "%time df_polars = pl.read_csv('dataset_csv.csv') # vrne Polars DataFrame\n",
    "\n",
    "df_polars.head()"
   ]
  },
  {
   "cell_type": "markdown",
   "metadata": {},
   "source": [
    "Vidimo, da smo s knjižnico Pandas naložili datoteko CSV v okoli 2 sekundah, s knjižnico Polars pa v približno 100 milisekundah. To je velika pohitritev, ki izhaja iz zalednih struktur obeh knjižnic. Knjižnica Pandas v ozadju uporablja strukture knjižnice numpy, dočimer knjižnica Polars v ozadju uporablja strukture knjižnice Apache Arrow. Knjižnica Polars je tako boljša za nalaganje večje količine velepodatkov.\n",
    "\n",
    "Druga stvar, ki jo lahko opazimo je, da smo za nalaganje uporabili praktično enako kodo - zamenjali smo le alias iz ``pd`` v ``pl``. Pri tem je vredno omeniti, da Polars vrača podatkovne tipe že v izpisu funkcije ``.head()`` in tako nima funkcije, ki bi bila podobna funkciji ``.info()`` v Pandas.\n",
    "\n",
    "Poglejmo kako izgleda filtriranje oziroma poizvedovanje po podatkovni zbirki v obeh knjižnicah. Pri tem bomo uporabili ustvarjeno podatkovno zbirko iz prejšnje enote, ki vsebuje 10 milijonov vrstic.\n",
    "\n",
    "Primerjavo ukazov Pandas in Polars lahko pregledate v spodnjih virih:\n",
    "\n",
    "* [Dokumentacija Polars](https://docs.pola.rs/)\n",
    "* [Cheatsheet for Polars to Pandas](https://www.rhosignal.com/posts/polars-pandas-cheatsheet/)"
   ]
  },
  {
   "cell_type": "code",
   "execution_count": 5,
   "metadata": {},
   "outputs": [
    {
     "name": "stdout",
     "output_type": "stream",
     "text": [
      "164 ms ± 2.09 ms per loop (mean ± std. dev. of 7 runs, 10 loops each)\n"
     ]
    }
   ],
   "source": [
    "# izbira podatkov in grupiranje s Pandas\n",
    "%timeit df_pandas.query('`Starost` > 18 & `Starost` < 25').groupby('Polozaj').size() "
   ]
  },
  {
   "cell_type": "code",
   "execution_count": 6,
   "metadata": {},
   "outputs": [
    {
     "name": "stdout",
     "output_type": "stream",
     "text": [
      "25 ms ± 581 µs per loop (mean ± std. dev. of 7 runs, 10 loops each)\n"
     ]
    }
   ],
   "source": [
    "# izbira podatkov in grupiranje s Polars\n",
    "%timeit df_polars.filter((pl.col('Starost') > 18) & (pl.col('Starost') < 25)).group_by('Polozaj').len() "
   ]
  },
  {
   "cell_type": "code",
   "execution_count": 7,
   "metadata": {},
   "outputs": [
    {
     "name": "stdout",
     "output_type": "stream",
     "text": [
      "164 ms ± 987 µs per loop (mean ± std. dev. of 7 runs, 10 loops each)\n"
     ]
    }
   ],
   "source": [
    "%%timeit \n",
    "\n",
    "# veriženje v Pandas\n",
    "(df_pandas\n",
    " .query('`Starost` > 18 & `Starost` < 25')\n",
    " .groupby('Polozaj')\n",
    " .size()\n",
    ")"
   ]
  },
  {
   "cell_type": "code",
   "execution_count": 8,
   "metadata": {},
   "outputs": [
    {
     "name": "stdout",
     "output_type": "stream",
     "text": [
      "24.8 ms ± 400 µs per loop (mean ± std. dev. of 7 runs, 10 loops each)\n"
     ]
    }
   ],
   "source": [
    "%%timeit \n",
    "\n",
    "# veriženje v Polars\n",
    "(df_polars\n",
    "    .filter((pl.col('Starost') > 18) & (pl.col('Starost') < 25))\n",
    "    .group_by('Polozaj')\n",
    "    .len()\n",
    ")"
   ]
  },
  {
   "cell_type": "markdown",
   "metadata": {},
   "source": [
    "Opazimo, da so funkcije knjižnice Polars za ta tip operacij bistveno hitrejše! Hkrati vidimo, da je način uporabe Polars zelo podoben Pandas in da podpira tudi veriženje funkcij. Preverimo še učinkovitost urejanja podatkov."
   ]
  },
  {
   "cell_type": "code",
   "execution_count": 9,
   "metadata": {},
   "outputs": [
    {
     "name": "stdout",
     "output_type": "stream",
     "text": [
      "2.09 s ± 9.38 ms per loop (mean ± std. dev. of 7 runs, 1 loop each)\n"
     ]
    }
   ],
   "source": [
    "# urejanje podatkov s Pandas\n",
    "%timeit df_pandas.sort_values(by='Verjetnost', ascending=False).head(10)"
   ]
  },
  {
   "cell_type": "code",
   "execution_count": 10,
   "metadata": {},
   "outputs": [
    {
     "name": "stdout",
     "output_type": "stream",
     "text": [
      "374 ms ± 52.5 ms per loop (mean ± std. dev. of 7 runs, 1 loop each)\n"
     ]
    }
   ],
   "source": [
    "# urejanje podatkov s Polars\n",
    "%timeit df_polars.sort('Verjetnost', descending=True).head(10)"
   ]
  },
  {
   "cell_type": "markdown",
   "metadata": {},
   "source": [
    "Knjižnica Polars je tudi pri sortiranju bistveno hitrejša od knjižnice Pandas. Na podlagi rezultatov teh preizkusov lahko zaključimo, da je knjižnica Polars za velike količine podatkov boljša izbira kot knjižnica Pandas. Čeprav je Pandas veliko bolj razširjena knjižnica za obdelavo podatkov v podatkovni znanosti, je vredno razmisliti o izboljšavah, ki so na voljo. Polars ni edina alternativa za pohitritev dela z velepodatki. Velepodatke lahko obdelujemo tudi z grafičnimi procesorskimi enotami, kar je še posebej uporabno pri učenju modelov umetne inteligence. S tem pristopom se boste spoznali v naslednji enoti.\n",
    "\n",
    "Za vajo lahko poskusite sami poskusiti naslednje poizvedbe nad ustvarjeno podatkovno zbirko. Pri tem poskusite s knjižnicama Pandas in Polars.\n",
    "\n",
    "* Izberite vse igralce na levem položaju, ki igrajo za modro ekipo, jih uredite po letih padajoče in izberite prvih 15.\n",
    "* Izberite vse igralce na levem ali desnem položaju, ki igrajo za rdečo ali rumeno ekipo in imajo verjetnost za zmago.\n",
    "* Izračunajte povprečno verjetnost zmage za vse igralce po posameznih ekipah."
   ]
  }
 ],
 "metadata": {
  "kernelspec": {
   "display_name": "Python 3",
   "language": "python",
   "name": "python3"
  },
  "language_info": {
   "codemirror_mode": {
    "name": "ipython",
    "version": 3
   },
   "file_extension": ".py",
   "mimetype": "text/x-python",
   "name": "python",
   "nbconvert_exporter": "python",
   "pygments_lexer": "ipython3",
   "version": "3.12.3"
  }
 },
 "nbformat": 4,
 "nbformat_minor": 2
}
