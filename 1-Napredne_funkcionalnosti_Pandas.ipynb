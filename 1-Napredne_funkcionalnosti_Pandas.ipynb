{
 "cells": [
  {
   "cell_type": "markdown",
   "metadata": {},
   "source": [
    "# Napredne funkcionalnosti Pandas\n",
    "\n",
    "V tej enoti se boste seznanili z nekaj naprednimi funkcionalnostmi Pandas in dobrimi praksami pri obdelavi velepodatkov. Tematike te enote bodo optimizacija podatkovnih tipov, veriženje funkcij in nekatere napredne funkcije knjižnice Pandas. Pri delu bomo uporabljali lastno funkcijo za generiranje poljubno velike zbirke velepodatkov. Ustvarjene velepodatke bomo uporabljali pri analizi in optimizaciji podatkovnih tipov ter kot izhodišče za izvedbo veriženih funkcij. Nad njimi bomo zaganjali tudi nekaj naprednih funkcij."
   ]
  },
  {
   "cell_type": "markdown",
   "metadata": {},
   "source": [
    "## Ustvarjanje zbirke velepodatkov\n",
    "\n",
    "Najprej si bomo pripravili lastno funkcijo za ustvarjanje poljubno velike zbirke velepodatkov. Ustvarili bomo velepodatke z opisi igralcev v ekipah. Igralec bo imel naslednje lastnosti:\n",
    "\n",
    "* Položaj (levo, sredina, desno)\n",
    "* Starost (vrednost med 18 in 50)\n",
    "* Ekipa (rdeča, modra, rumena, zelena)\n",
    "* Zmaga (da, ne)\n",
    "* Verjetnost (vrednost med 0 in 1)\n",
    "\n",
    "Pripravimo funkcijo za ustvarjanje velepodatkov:"
   ]
  },
  {
   "cell_type": "code",
   "execution_count": 36,
   "metadata": {},
   "outputs": [],
   "source": [
    "import pandas as pd\n",
    "import numpy as np"
   ]
  },
  {
   "cell_type": "code",
   "execution_count": 37,
   "metadata": {},
   "outputs": [],
   "source": [
    "def generate_data(size):\n",
    "    df = pd.DataFrame()\n",
    "    df['Polozaj'] = np.random.choice(['levo', 'sredina', 'desno'], size)\n",
    "    df['Starost'] = np.random.randint(18, 50, size)\n",
    "    df['Ekipa'] = np.random.choice(['rdeča', 'modra', 'rumena', 'zelena'], size)\n",
    "    df['Zmaga'] = np.random.choice(['da', 'ne'], size)\n",
    "    df['Verjetnost'] = np.random.uniform(0, 1, size)\n",
    "    return df"
   ]
  },
  {
   "cell_type": "markdown",
   "metadata": {},
   "source": [
    "Zaženimo funkcijo in ustvarimo zbirko velepodatkov z 10 milijoni vrstic. S funkcijo ``df.info()`` bomo videli podrobnosti naše zbirke, s funkcijo ``df.head()`` pa bomo izpisali prvih 5 vrstic."
   ]
  },
  {
   "cell_type": "code",
   "execution_count": 38,
   "metadata": {},
   "outputs": [
    {
     "name": "stdout",
     "output_type": "stream",
     "text": [
      "<class 'pandas.core.frame.DataFrame'>\n",
      "RangeIndex: 10000000 entries, 0 to 9999999\n",
      "Data columns (total 5 columns):\n",
      " #   Column      Dtype  \n",
      "---  ------      -----  \n",
      " 0   Polozaj     object \n",
      " 1   Starost     int32  \n",
      " 2   Ekipa       object \n",
      " 3   Zmaga       object \n",
      " 4   Verjetnost  float64\n",
      "dtypes: float64(1), int32(1), object(3)\n",
      "memory usage: 343.3+ MB\n"
     ]
    },
    {
     "data": {
      "text/html": [
       "<div>\n",
       "<style scoped>\n",
       "    .dataframe tbody tr th:only-of-type {\n",
       "        vertical-align: middle;\n",
       "    }\n",
       "\n",
       "    .dataframe tbody tr th {\n",
       "        vertical-align: top;\n",
       "    }\n",
       "\n",
       "    .dataframe thead th {\n",
       "        text-align: right;\n",
       "    }\n",
       "</style>\n",
       "<table border=\"1\" class=\"dataframe\">\n",
       "  <thead>\n",
       "    <tr style=\"text-align: right;\">\n",
       "      <th></th>\n",
       "      <th>Polozaj</th>\n",
       "      <th>Starost</th>\n",
       "      <th>Ekipa</th>\n",
       "      <th>Zmaga</th>\n",
       "      <th>Verjetnost</th>\n",
       "    </tr>\n",
       "  </thead>\n",
       "  <tbody>\n",
       "    <tr>\n",
       "      <th>0</th>\n",
       "      <td>sredina</td>\n",
       "      <td>34</td>\n",
       "      <td>rdeča</td>\n",
       "      <td>da</td>\n",
       "      <td>0.728796</td>\n",
       "    </tr>\n",
       "    <tr>\n",
       "      <th>1</th>\n",
       "      <td>sredina</td>\n",
       "      <td>37</td>\n",
       "      <td>modra</td>\n",
       "      <td>ne</td>\n",
       "      <td>0.073443</td>\n",
       "    </tr>\n",
       "    <tr>\n",
       "      <th>2</th>\n",
       "      <td>levo</td>\n",
       "      <td>38</td>\n",
       "      <td>modra</td>\n",
       "      <td>ne</td>\n",
       "      <td>0.367767</td>\n",
       "    </tr>\n",
       "    <tr>\n",
       "      <th>3</th>\n",
       "      <td>sredina</td>\n",
       "      <td>49</td>\n",
       "      <td>zelena</td>\n",
       "      <td>ne</td>\n",
       "      <td>0.271946</td>\n",
       "    </tr>\n",
       "    <tr>\n",
       "      <th>4</th>\n",
       "      <td>desno</td>\n",
       "      <td>30</td>\n",
       "      <td>rdeča</td>\n",
       "      <td>da</td>\n",
       "      <td>0.375633</td>\n",
       "    </tr>\n",
       "  </tbody>\n",
       "</table>\n",
       "</div>"
      ],
      "text/plain": [
       "   Polozaj  Starost   Ekipa Zmaga  Verjetnost\n",
       "0  sredina       34   rdeča    da    0.728796\n",
       "1  sredina       37   modra    ne    0.073443\n",
       "2     levo       38   modra    ne    0.367767\n",
       "3  sredina       49  zelena    ne    0.271946\n",
       "4    desno       30   rdeča    da    0.375633"
      ]
     },
     "execution_count": 38,
     "metadata": {},
     "output_type": "execute_result"
    }
   ],
   "source": [
    "df = generate_data(10_000_000)\n",
    "df.info()\n",
    "df.head()"
   ]
  },
  {
   "cell_type": "markdown",
   "metadata": {},
   "source": [
    "Izvedimo nekaj agregatnih funkcij (``.groupby()`` in ``.rank()``) nad ustvarjeno zbirko velepodatkov in ob tem merimo čas izvedbe. Čas bomo merili z ukazom ``%timeit``, ki meri čas izvedbe ene vrstice v celici Jupyter zvezka. Ta ukaz vrstico izvede večkrat in vrne povprečen čas izvedbe s standardnim odklonom. "
   ]
  },
  {
   "cell_type": "code",
   "execution_count": 39,
   "metadata": {},
   "outputs": [
    {
     "name": "stdout",
     "output_type": "stream",
     "text": [
      "7.92 s ± 96.5 ms per loop (mean ± std. dev. of 7 runs, 1 loop each)\n",
      "9.46 s ± 63.9 ms per loop (mean ± std. dev. of 7 runs, 1 loop each)\n",
      "10.6 s ± 403 ms per loop (mean ± std. dev. of 7 runs, 1 loop each)\n"
     ]
    }
   ],
   "source": [
    "# naredimo kopijo velepodatkov\n",
    "df_result = df.copy()\n",
    "\n",
    "# Ustvarimo nov stolpec z imenom 'Starost_Rang', ki bo vseboval številčno vrednost ranga, če izvedemo združevanje najprej po ekipi, nato pa po položaju. \n",
    "%timeit df_result['Starost_Rang'] = df_result.groupby(['Ekipa', 'Polozaj'], observed=True)['Starost'].rank()\n",
    "\n",
    "# Ustvarimo nov stolpec z imenom 'Verjetnost_Rang', ki bo vseboval številčno vrednost ranga, če izvedemo združevanje najprej po ekipi, nato pa po položaju.\n",
    "%timeit df_result['Verjetnost_Rang'] = df_result.groupby(['Ekipa', 'Polozaj'], observed=True)['Verjetnost'].rank()\n",
    "\n",
    "# Ustvarimo nov stolpec z imenom 'VerjetnostZmage_Rang', ki bo vseboval številčno vrednost ranga, če izvedemo združevanje najprej po ekipi, nato po položaju, zatem pa še po zmagi.\n",
    "%timeit df_result['VerjetnostZmage_Rang'] = df_result.groupby(['Ekipa', 'Polozaj', 'Zmaga'], observed=True)['Verjetnost'].rank()"
   ]
  },
  {
   "cell_type": "markdown",
   "metadata": {},
   "source": [
    "Izvedli smo verižene agregatne funkcije in izmerili povprečen čas izvedbe:\n",
    "\n",
    "* Prva vrstica: 7,92s\n",
    "* Druga vrstica: 9,46s\n",
    "* Tretja vrstica: 10,6s\n",
    "\n",
    "Poglejmo, ali lahko pohitrimo izvedbo teh agregatnih funkcij."
   ]
  },
  {
   "cell_type": "markdown",
   "metadata": {},
   "source": [
    "## Optimizacija podatkovnih tipov\n",
    "\n",
    "Poskusimo optimizirati podatkovne tipe, ki jih uporablja naša zbirka velepodatkov. Najprej poglejmo obstoječe podatkovne tipe, nato pa razmislimo kako bi jih lahko optimizirali. Obstoječe podatkovne tipe lahko preverimo s funkcijo ``.info()``. "
   ]
  },
  {
   "cell_type": "code",
   "execution_count": 40,
   "metadata": {},
   "outputs": [
    {
     "name": "stdout",
     "output_type": "stream",
     "text": [
      "<class 'pandas.core.frame.DataFrame'>\n",
      "RangeIndex: 10000000 entries, 0 to 9999999\n",
      "Data columns (total 5 columns):\n",
      " #   Column      Dtype  \n",
      "---  ------      -----  \n",
      " 0   Polozaj     object \n",
      " 1   Starost     int32  \n",
      " 2   Ekipa       object \n",
      " 3   Zmaga       object \n",
      " 4   Verjetnost  float64\n",
      "dtypes: float64(1), int32(1), object(3)\n",
      "memory usage: 343.3+ MB\n"
     ]
    }
   ],
   "source": [
    "df.info()"
   ]
  },
  {
   "cell_type": "markdown",
   "metadata": {},
   "source": [
    "Obstoječe podatkovne tipe lahko optimiziramo. Stolpca ``Polozaj`` in ``Ekipa`` sta kategoričnega tipa in ju lahko ustrezno pretvorimo. Nadalje, številčna stolpca ``Starost`` in ``Verjetnost`` lahko spremenimo v bolj primerna številčna podatkovnega tipa. Stolpec ``Zmaga`` opisuje binarno stanje in ga lahko prav tako pretvorimo. \n",
    "\n",
    "Poglejmo še porabo pomnilnika - z obstoječimi podatkovnimi tipi je poraba pomnilnika okoli 300MB. Pričakujemo lahko, da bomo z optimizacijo podatkovnih tipov zmanjšali tudi porabo pomnilnika. Poglejmo si torej postopek optimizacije podatkovnih tipov."
   ]
  },
  {
   "cell_type": "code",
   "execution_count": 41,
   "metadata": {},
   "outputs": [
    {
     "name": "stdout",
     "output_type": "stream",
     "text": [
      "<class 'pandas.core.frame.DataFrame'>\n",
      "RangeIndex: 10000000 entries, 0 to 9999999\n",
      "Data columns (total 5 columns):\n",
      " #   Column      Dtype   \n",
      "---  ------      -----   \n",
      " 0   Polozaj     category\n",
      " 1   Starost     uint8   \n",
      " 2   Ekipa       category\n",
      " 3   Zmaga       object  \n",
      " 4   Verjetnost  float32 \n",
      "dtypes: category(2), float32(1), object(1), uint8(1)\n",
      "memory usage: 143.1+ MB\n"
     ]
    }
   ],
   "source": [
    "# optimizacija podatkovnih tipov\n",
    "\n",
    "df_optimized = df.copy() # naredimo kopijo podatkov\n",
    "\n",
    "# pretvorba stolpca 'Polozaj' v kategorični tip\n",
    "# str => category\n",
    "df_optimized['Polozaj'] = df_optimized['Polozaj'].astype('category')\n",
    "\n",
    "# pretvorba stolpca 'Ekipa' v kategorični tip\n",
    "# str => category\n",
    "df_optimized['Ekipa'] = df_optimized['Ekipa'].astype('category')\n",
    "\n",
    "# pretvorba stolpca 'Starost' v 8-bitno celo število (brez predznaka) [0, 255]\n",
    "# int64 => uint8\n",
    "df_optimized['Starost'] = df_optimized['Starost'].astype('uint8')\n",
    "\n",
    "# pretvorba stolpca 'Verjetnost' v 32-bitno realno število enojne natančnosti\n",
    "# float64 => float32\n",
    "df_optimized['Verjetnost'] = df_optimized['Verjetnost'].astype('float32')\n",
    "\n",
    "# pretvorba stolpca 'Zmaga' v binarni tip\n",
    "# str => bool\n",
    "df_optimized['Zmaga'].map({'da': True, 'ne': False})\n",
    "\n",
    "# izpis optimiziranih podatkovnih tipov\n",
    "df_optimized.info()"
   ]
  },
  {
   "cell_type": "markdown",
   "metadata": {},
   "source": [
    "Vidimo, da smo spremenili podatkovne tipe, s tem pa smo zmanjšali porabo pomnilnika za približno polovico (poraba pomnilnika je zdaj okoli 140MB). Poglejmo še, ali optimizacija podatkovnih tipov vpliva na hitrost agregatnih funkcij. \n",
    "\n",
    "Ponovno bomo izvedli enake agregatne funkcije kot prej in izmerili povprečen čas izvedbe."
   ]
  },
  {
   "cell_type": "code",
   "execution_count": 42,
   "metadata": {},
   "outputs": [
    {
     "name": "stdout",
     "output_type": "stream",
     "text": [
      "6.62 s ± 154 ms per loop (mean ± std. dev. of 7 runs, 1 loop each)\n",
      "8.68 s ± 69.9 ms per loop (mean ± std. dev. of 7 runs, 1 loop each)\n",
      "9.22 s ± 74 ms per loop (mean ± std. dev. of 7 runs, 1 loop each)\n"
     ]
    }
   ],
   "source": [
    "# Ustvarimo nov stolpec z imenom 'Starost_Rang', ki bo vseboval številčno vrednost ranga, če izvedemo združevanje najprej po ekipi, nato pa po položaju. \n",
    "%timeit df_optimized['Starost_Rang'] = df_optimized.groupby(['Ekipa', 'Polozaj'], observed=True)['Starost'].rank()\n",
    "\n",
    "# Ustvarimo nov stolpec z imenom 'Verjetnost_Rang', ki bo vseboval številčno vrednost ranga, če izvedemo združevanje najprej po ekipi, nato pa po položaju.\n",
    "%timeit df_optimized['Verjetnost_Rang'] = df_optimized.groupby(['Ekipa', 'Polozaj'], observed=True)['Verjetnost'].rank()\n",
    "\n",
    "# Ustvarimo nov stolpec z imenom 'VerjetnostZmage_Rang', ki bo vseboval številčno vrednost ranga, če izvedemo združevanje najprej po ekipi, nato po položaju, zatem pa še po zmagi.\n",
    "%timeit df_optimized['VerjetnostZmage_Rang'] = df_optimized.groupby(['Ekipa', 'Polozaj', 'Zmaga'], observed=True)['Verjetnost'].rank()"
   ]
  },
  {
   "cell_type": "markdown",
   "metadata": {},
   "source": [
    "Z optimiziranimi podatkovnimi tipi smo dobili naslednje povprečne čase izvedbe:\n",
    "\n",
    "* Prva vrstica: 6,62s (prej 7,92s)\n",
    "* Druga vrstica: 8,68s (prej 9,46s)\n",
    "* Tretja vrstica: 9,22s (prej 10,6s)\n",
    "\n",
    "Vidimo torej, da se optimizacija podatkovnih tipov splača, saj smo v vseh treh primerih dosegli približno pohitritev za 1 sekundo."
   ]
  },
  {
   "cell_type": "markdown",
   "metadata": {},
   "source": [
    "## Veriženje funkcij\n",
    "\n",
    "Veriženje funkcij *(ang. method chaining)* je zmožnost zaporedne izvedbe funkcij Pandas. Z veriženjem lahko enostavno opišemo zaporedje izvedenih funkcij prav tako pa je takšna koda lažja za razumevanje, vzdrževanje in nam olajša iskanje napak. Gre za dobro prakso, ki se pogosto uporablja pri napredni obdelavi podatkov in velepodatkov.\n",
    "\n",
    "Poglejmo si primer brez in z veriženjem funkcij:"
   ]
  },
  {
   "cell_type": "code",
   "execution_count": 52,
   "metadata": {},
   "outputs": [],
   "source": [
    "# najprej naredimo kopijo podatkov\n",
    "df_tmp = df_optimized.copy()"
   ]
  },
  {
   "cell_type": "code",
   "execution_count": 65,
   "metadata": {},
   "outputs": [
    {
     "name": "stdout",
     "output_type": "stream",
     "text": [
      "2.25 s ± 14.6 ms per loop (mean ± std. dev. of 7 runs, 1 loop each)\n"
     ]
    }
   ],
   "source": [
    "%%timeit \n",
    "# brez veriženja izberimo vse igralce, ki so stari več kot 30 let in igrajo za rdečo ekipo, nato pa jih uredimo po starosti naraščujoče in izberimo prvih 10\n",
    "\n",
    "df_nonchain = df_tmp.where(df_tmp['Starost'] >= 30)\n",
    "df_nonchain = df_tmp.where(df_tmp['Ekipa'] == 'rdeča')\n",
    "df_nonchain = df_tmp.dropna()\n",
    "df_nonchain = df_tmp.sort_values('Starost', ascending=True)\n",
    "df_nonchain.head(10)\n"
   ]
  },
  {
   "cell_type": "code",
   "execution_count": 66,
   "metadata": {},
   "outputs": [
    {
     "name": "stdout",
     "output_type": "stream",
     "text": [
      "1.18 s ± 9.77 ms per loop (mean ± std. dev. of 7 runs, 1 loop each)\n"
     ]
    }
   ],
   "source": [
    "%%timeit\n",
    "# ponovimo isto z veriženjem\n",
    "df_tmp.where(df_tmp['Starost'] >= 30).where(df_tmp['Ekipa'] == 'rdeča').dropna().sort_values('Starost', ascending=True).head(10)"
   ]
  },
  {
   "cell_type": "markdown",
   "metadata": {},
   "source": [
    "Z ukazom ``%%timeit`` smo merili čas izvedbe obeh pristopov. Vidimo, da je pristop z veriženjem v povprečju dvakrat hitrejši od pristopa brez veriženja. To je predvsem zaradi shranjevanja vmesnega rezultata pri pristopu brez veriženja. Kadar to ni potrebno za končni rezultat, lahko takšno shranjevanje izpustimo. \n",
    "\n",
    "Opazimo, da je pri pristopu z veriženjem dvakrat uporabljena funkcija ``.where()``. Poskusimo združiti pogoja v obeh primerih uporabe ``.where()`` in poglejmo ali to vpliva na hitrost izvedbe. "
   ]
  },
  {
   "cell_type": "code",
   "execution_count": 68,
   "metadata": {},
   "outputs": [
    {
     "name": "stdout",
     "output_type": "stream",
     "text": [
      "858 ms ± 5.7 ms per loop (mean ± std. dev. of 7 runs, 1 loop each)\n"
     ]
    }
   ],
   "source": [
    "%%timeit\n",
    "# ponovimo isto z veriženjem, tokrat združujemo pogoja v .where()\n",
    "# uporabili smo operator &, ki predstavlja logično operacijo 'in'\n",
    "# oba pogoja smo obdali z oklepaji\n",
    "df_tmp.where((df_tmp['Starost'] >= 30) & (df_tmp['Ekipa'] == 'rdeča')).dropna().sort_values('Starost', ascending=True).head(10)"
   ]
  },
  {
   "cell_type": "markdown",
   "metadata": {},
   "source": [
    "Z združevanjem pogojev v ``.where()`` smo dosegli še dodatno pohitritev. Bistveno je razumeti, da za hitro obdelavo velepodatkov uporabimo vse možne optimizacije, ki so nam na voljo. \n",
    "\n",
    "Veriženje funkcij je očitno uporabno, vendar je s takšnim pristopom zapis programske kode v eni vrstici lahko nepregleden. To vodi v slabo berljivost programske kode in posledično oteženo reševanje napak. Zapis lahko naredimo bolj pregleden z uporabo oklepajev in tabulatorjev, kot je prikazano v spodnjem primeru."
   ]
  },
  {
   "cell_type": "code",
   "execution_count": 69,
   "metadata": {},
   "outputs": [
    {
     "name": "stdout",
     "output_type": "stream",
     "text": [
      "850 ms ± 4.62 ms per loop (mean ± std. dev. of 7 runs, 1 loop each)\n"
     ]
    }
   ],
   "source": [
    "%%timeit\n",
    "# izboljšan zapis pristopa z veriženjem\n",
    "\n",
    "(df_tmp\n",
    "    .where((df_tmp['Starost'] >= 30) & (df_tmp['Ekipa'] == 'rdeča'))\n",
    "    .dropna()\n",
    "    .sort_values('Starost', ascending=True)\n",
    "    .head(10)\n",
    ")"
   ]
  },
  {
   "cell_type": "markdown",
   "metadata": {},
   "source": [
    "## Napredne funkcije"
   ]
  },
  {
   "cell_type": "markdown",
   "metadata": {},
   "source": [
    "Knjižnica Pandas podpira različne napredne funkcije za delo s podatki. Teh je veliko in jih lahko podrobneje preučite s pomočjo dokumentacije:\n",
    "\n",
    "* [``.apply()``](https://pandas.pydata.org/docs/reference/api/pandas.Series.apply.html#pandas.Series.apply)\n",
    "* [``.nunique()``](https://pandas.pydata.org/docs/reference/api/pandas.Series.nunique.html#pandas.Series.nunique)\n",
    "* [``.sort_values()``](https://pandas.pydata.org/docs/reference/api/pandas.Series.sort_values.html#pandas.Series.sort_values)\n",
    "* [``.rename()``](https://pandas.pydata.org/docs/reference/api/pandas.DataFrame.rename.html#pandas.DataFrame.rename)\n",
    "* [``.groupby()``](https://pandas.pydata.org/docs/reference/groupby.html#groupby)\n",
    "* [``.query()``](https://pandas.pydata.org/docs/reference/api/pandas.DataFrame.query.html#pandas.DataFrame.query)\n",
    "* [``.melt()``](https://pandas.pydata.org/docs/reference/api/pandas.melt.html#pandas.melt)\n",
    "* [``.crosstab()``](https://pandas.pydata.org/docs/reference/api/pandas.crosstab.html#pandas-crosstab)\n",
    "* [``.pivot_table()``](https://pandas.pydata.org/docs/reference/api/pandas.pivot_table.html#pandas-pivot-table)\n",
    "* [``.cut()``](https://pandas.pydata.org/docs/reference/api/pandas.cut.html#pandas.cut)\n",
    "* [``.isin()``](https://pandas.pydata.org/docs/reference/api/pandas.Series.isin.html#pandas.Series.isin)\n",
    "* [``.value_counts()``](https://pandas.pydata.org/docs/reference/api/pandas.Series.value_counts.html#pandas.Series.value_counts)\n",
    "* [``.rolling()``](https://pandas.pydata.org/docs/reference/api/pandas.Series.rolling.html#pandas.Series.rolling)\n",
    "\n",
    "V nadaljevanju si bomo podrobneje pogledali funkciji ``.apply()`` in ``.query()``, ki sta lahko zelo uporabni pri obdelavi podatkovnih zbirk."
   ]
  },
  {
   "cell_type": "markdown",
   "metadata": {},
   "source": [
    "### ``.apply()``\n",
    "\n",
    "Funkcija ``.apply()`` omogoča izvedbo poljubne funkcije nad podatki. To so lahko vgrajene funkcije ali pa tudi naše lastne funkcije. To je uporabno v primerih, kadar želimo obdelati vse podatke v enem stolpcu. Prvi pristop, ki bi ga najverjetneje uporabili je implementacija zanke, ki spreminja posamezni podatek v stolpcu. To se izkaže za izredno časovno potratno, zato je bolj smiselno uporabiti funkcije, ki paketno obdelujejo podatke. \n",
    "\n",
    "Poglejmo si primer funkcije ``.apply()`` z vgrajeno funkcijo. Sami lahko poskusite implementirati enako operacijo s pomočjo zanke in primerjate izvajalni čas."
   ]
  },
  {
   "cell_type": "code",
   "execution_count": null,
   "metadata": {},
   "outputs": [],
   "source": [
    "# V tej celici poskusite sami implementirati operacijo .apply() s pomočjo zanke. Primerjajte hitrost izvajanja z vgrajeno funkcijo .apply()."
   ]
  },
  {
   "cell_type": "code",
   "execution_count": 79,
   "metadata": {},
   "outputs": [
    {
     "data": {
      "text/html": [
       "<div>\n",
       "<style scoped>\n",
       "    .dataframe tbody tr th:only-of-type {\n",
       "        vertical-align: middle;\n",
       "    }\n",
       "\n",
       "    .dataframe tbody tr th {\n",
       "        vertical-align: top;\n",
       "    }\n",
       "\n",
       "    .dataframe thead th {\n",
       "        text-align: right;\n",
       "    }\n",
       "</style>\n",
       "<table border=\"1\" class=\"dataframe\">\n",
       "  <thead>\n",
       "    <tr style=\"text-align: right;\">\n",
       "      <th></th>\n",
       "      <th>Polozaj</th>\n",
       "      <th>Starost</th>\n",
       "      <th>Ekipa</th>\n",
       "      <th>Zmaga</th>\n",
       "      <th>Verjetnost</th>\n",
       "      <th>Koren_Starost</th>\n",
       "    </tr>\n",
       "  </thead>\n",
       "  <tbody>\n",
       "    <tr>\n",
       "      <th>0</th>\n",
       "      <td>sredina</td>\n",
       "      <td>34</td>\n",
       "      <td>rdeča</td>\n",
       "      <td>da</td>\n",
       "      <td>0.728796</td>\n",
       "      <td>5.832031</td>\n",
       "    </tr>\n",
       "    <tr>\n",
       "      <th>1</th>\n",
       "      <td>sredina</td>\n",
       "      <td>37</td>\n",
       "      <td>modra</td>\n",
       "      <td>ne</td>\n",
       "      <td>0.073443</td>\n",
       "      <td>6.082031</td>\n",
       "    </tr>\n",
       "    <tr>\n",
       "      <th>2</th>\n",
       "      <td>levo</td>\n",
       "      <td>38</td>\n",
       "      <td>modra</td>\n",
       "      <td>ne</td>\n",
       "      <td>0.367767</td>\n",
       "      <td>6.164062</td>\n",
       "    </tr>\n",
       "    <tr>\n",
       "      <th>3</th>\n",
       "      <td>sredina</td>\n",
       "      <td>49</td>\n",
       "      <td>zelena</td>\n",
       "      <td>ne</td>\n",
       "      <td>0.271946</td>\n",
       "      <td>7.000000</td>\n",
       "    </tr>\n",
       "    <tr>\n",
       "      <th>4</th>\n",
       "      <td>desno</td>\n",
       "      <td>30</td>\n",
       "      <td>rdeča</td>\n",
       "      <td>da</td>\n",
       "      <td>0.375633</td>\n",
       "      <td>5.476562</td>\n",
       "    </tr>\n",
       "  </tbody>\n",
       "</table>\n",
       "</div>"
      ],
      "text/plain": [
       "   Polozaj  Starost   Ekipa Zmaga  Verjetnost  Koren_Starost\n",
       "0  sredina       34   rdeča    da    0.728796       5.832031\n",
       "1  sredina       37   modra    ne    0.073443       6.082031\n",
       "2     levo       38   modra    ne    0.367767       6.164062\n",
       "3  sredina       49  zelena    ne    0.271946       7.000000\n",
       "4    desno       30   rdeča    da    0.375633       5.476562"
      ]
     },
     "execution_count": 79,
     "metadata": {},
     "output_type": "execute_result"
    }
   ],
   "source": [
    "# najprej naredimo kopijo podatkov brez določenih stolpcev\n",
    "df_app1 = df_tmp.copy().drop(['Starost_Rang', 'Verjetnost_Rang', 'VerjetnostZmage_Rang'], axis=1)\n",
    "\n",
    "# uporabimo funkcijo apply() za izračun kvadratnega korena vrednosti stolpca 'Starost'\n",
    "# pri tem uporabimo numpy funkcijo np.sqrt()\n",
    "df_app1['Koren_Starost'] = df_tmp['Starost'].apply(np.sqrt)\n",
    "\n",
    "df_app1.head()"
   ]
  },
  {
   "cell_type": "markdown",
   "metadata": {},
   "source": [
    "Uporabimo še funkcijo ``.apply()`` z lastno funkcijo. Za vsakega igralca bomo na podlagi starosti uvrstili v eno izmed kategorij. Kategorije bodo \"U21\", \"U23\", \"adult\" in \"veteran\". "
   ]
  },
  {
   "cell_type": "code",
   "execution_count": 80,
   "metadata": {},
   "outputs": [
    {
     "data": {
      "text/html": [
       "<div>\n",
       "<style scoped>\n",
       "    .dataframe tbody tr th:only-of-type {\n",
       "        vertical-align: middle;\n",
       "    }\n",
       "\n",
       "    .dataframe tbody tr th {\n",
       "        vertical-align: top;\n",
       "    }\n",
       "\n",
       "    .dataframe thead th {\n",
       "        text-align: right;\n",
       "    }\n",
       "</style>\n",
       "<table border=\"1\" class=\"dataframe\">\n",
       "  <thead>\n",
       "    <tr style=\"text-align: right;\">\n",
       "      <th></th>\n",
       "      <th>Polozaj</th>\n",
       "      <th>Starost</th>\n",
       "      <th>Ekipa</th>\n",
       "      <th>Zmaga</th>\n",
       "      <th>Verjetnost</th>\n",
       "      <th>Kategorija</th>\n",
       "    </tr>\n",
       "  </thead>\n",
       "  <tbody>\n",
       "    <tr>\n",
       "      <th>0</th>\n",
       "      <td>sredina</td>\n",
       "      <td>34</td>\n",
       "      <td>rdeča</td>\n",
       "      <td>da</td>\n",
       "      <td>0.728796</td>\n",
       "      <td>adult</td>\n",
       "    </tr>\n",
       "    <tr>\n",
       "      <th>1</th>\n",
       "      <td>sredina</td>\n",
       "      <td>37</td>\n",
       "      <td>modra</td>\n",
       "      <td>ne</td>\n",
       "      <td>0.073443</td>\n",
       "      <td>veteran</td>\n",
       "    </tr>\n",
       "    <tr>\n",
       "      <th>2</th>\n",
       "      <td>levo</td>\n",
       "      <td>38</td>\n",
       "      <td>modra</td>\n",
       "      <td>ne</td>\n",
       "      <td>0.367767</td>\n",
       "      <td>veteran</td>\n",
       "    </tr>\n",
       "    <tr>\n",
       "      <th>3</th>\n",
       "      <td>sredina</td>\n",
       "      <td>49</td>\n",
       "      <td>zelena</td>\n",
       "      <td>ne</td>\n",
       "      <td>0.271946</td>\n",
       "      <td>veteran</td>\n",
       "    </tr>\n",
       "    <tr>\n",
       "      <th>4</th>\n",
       "      <td>desno</td>\n",
       "      <td>30</td>\n",
       "      <td>rdeča</td>\n",
       "      <td>da</td>\n",
       "      <td>0.375633</td>\n",
       "      <td>adult</td>\n",
       "    </tr>\n",
       "  </tbody>\n",
       "</table>\n",
       "</div>"
      ],
      "text/plain": [
       "   Polozaj  Starost   Ekipa Zmaga  Verjetnost Kategorija\n",
       "0  sredina       34   rdeča    da    0.728796      adult\n",
       "1  sredina       37   modra    ne    0.073443    veteran\n",
       "2     levo       38   modra    ne    0.367767    veteran\n",
       "3  sredina       49  zelena    ne    0.271946    veteran\n",
       "4    desno       30   rdeča    da    0.375633      adult"
      ]
     },
     "execution_count": 80,
     "metadata": {},
     "output_type": "execute_result"
    }
   ],
   "source": [
    "# lastna funkcija za katogorizacijo igralcev glede na starost\n",
    "def categorize(age):\n",
    "    category = None\n",
    "    if(age <= 21): category = 'U21'\n",
    "    if(age > 21 and age <= 23): category = 'U23'\n",
    "    if(age > 23 and age <= 34): category = 'adult'\n",
    "    if(age > 34): category = 'veteran'\n",
    "\n",
    "    return category\n",
    "\n",
    "# naredimo kopijo podatkov brez določenih stolpcev\n",
    "df_app2 = df_tmp.copy().drop(['Starost_Rang', 'Verjetnost_Rang', 'VerjetnostZmage_Rang'], axis=1)\n",
    "\n",
    "# uporabimo funkcijo .apply() za kategorizacijo igralcev\n",
    "df_app2['Kategorija'] = df_app2['Starost'].apply(categorize)\n",
    "\n",
    "df_app2.head()"
   ]
  },
  {
   "cell_type": "markdown",
   "metadata": {},
   "source": [
    "Nazadnje si poglejmo še uporabo funkcije ``.apply()`` z [anonimno oz. **lambda** funkcijo](https://www.geeksforgeeks.org/python-lambda-anonymous-functions-filter-map-reduce/). Vse ekipe zapišimo z velikimi tiskanimi črkami."
   ]
  },
  {
   "cell_type": "code",
   "execution_count": 81,
   "metadata": {},
   "outputs": [
    {
     "data": {
      "text/html": [
       "<div>\n",
       "<style scoped>\n",
       "    .dataframe tbody tr th:only-of-type {\n",
       "        vertical-align: middle;\n",
       "    }\n",
       "\n",
       "    .dataframe tbody tr th {\n",
       "        vertical-align: top;\n",
       "    }\n",
       "\n",
       "    .dataframe thead th {\n",
       "        text-align: right;\n",
       "    }\n",
       "</style>\n",
       "<table border=\"1\" class=\"dataframe\">\n",
       "  <thead>\n",
       "    <tr style=\"text-align: right;\">\n",
       "      <th></th>\n",
       "      <th>Polozaj</th>\n",
       "      <th>Starost</th>\n",
       "      <th>Ekipa</th>\n",
       "      <th>Zmaga</th>\n",
       "      <th>Verjetnost</th>\n",
       "    </tr>\n",
       "  </thead>\n",
       "  <tbody>\n",
       "    <tr>\n",
       "      <th>0</th>\n",
       "      <td>sredina</td>\n",
       "      <td>34</td>\n",
       "      <td>RDEČA</td>\n",
       "      <td>da</td>\n",
       "      <td>0.728796</td>\n",
       "    </tr>\n",
       "    <tr>\n",
       "      <th>1</th>\n",
       "      <td>sredina</td>\n",
       "      <td>37</td>\n",
       "      <td>MODRA</td>\n",
       "      <td>ne</td>\n",
       "      <td>0.073443</td>\n",
       "    </tr>\n",
       "    <tr>\n",
       "      <th>2</th>\n",
       "      <td>levo</td>\n",
       "      <td>38</td>\n",
       "      <td>MODRA</td>\n",
       "      <td>ne</td>\n",
       "      <td>0.367767</td>\n",
       "    </tr>\n",
       "    <tr>\n",
       "      <th>3</th>\n",
       "      <td>sredina</td>\n",
       "      <td>49</td>\n",
       "      <td>ZELENA</td>\n",
       "      <td>ne</td>\n",
       "      <td>0.271946</td>\n",
       "    </tr>\n",
       "    <tr>\n",
       "      <th>4</th>\n",
       "      <td>desno</td>\n",
       "      <td>30</td>\n",
       "      <td>RDEČA</td>\n",
       "      <td>da</td>\n",
       "      <td>0.375633</td>\n",
       "    </tr>\n",
       "  </tbody>\n",
       "</table>\n",
       "</div>"
      ],
      "text/plain": [
       "   Polozaj  Starost   Ekipa Zmaga  Verjetnost\n",
       "0  sredina       34   RDEČA    da    0.728796\n",
       "1  sredina       37   MODRA    ne    0.073443\n",
       "2     levo       38   MODRA    ne    0.367767\n",
       "3  sredina       49  ZELENA    ne    0.271946\n",
       "4    desno       30   RDEČA    da    0.375633"
      ]
     },
     "execution_count": 81,
     "metadata": {},
     "output_type": "execute_result"
    }
   ],
   "source": [
    "# naredimo kopijo podatkov brez določenih stolpcev\n",
    "df_app3 = df_tmp.copy().drop(['Starost_Rang', 'Verjetnost_Rang', 'VerjetnostZmage_Rang'], axis=1)\n",
    "\n",
    "# uporabimo funkcijo .apply() za pretvorbo v velike črke z anonimno (lambda) funkcijo\n",
    "df_app3['Ekipa'] = df_app3['Ekipa'].apply(lambda x: x.upper())\n",
    "\n",
    "df_app3.head()\n"
   ]
  },
  {
   "cell_type": "markdown",
   "metadata": {},
   "source": [
    "### ``.query()``\n",
    "\n"
   ]
  },
  {
   "cell_type": "markdown",
   "metadata": {},
   "source": [
    "Funkcija ``.query()`` je ena izmed zelo zmogljivih funkcij knjižnice Pandas, ki nam omogoča poizvedovanje. Z ustrezno poizvedbo lahko na hiter in berljiv način izberemo tiste podatke, ki nas v naši podatkovni zbirki zanimajo. Uporaba te funkcije je zelo podobna uporabi poizvedbam SQL *(ang. Structured Query Language)* v podatkovnih bazah.\n",
    "\n",
    "Poglejmo si primere funkcije ``.query()`` na preprostih in kompleksnih poizvedbah."
   ]
  },
  {
   "cell_type": "code",
   "execution_count": 86,
   "metadata": {},
   "outputs": [
    {
     "data": {
      "text/html": [
       "<div>\n",
       "<style scoped>\n",
       "    .dataframe tbody tr th:only-of-type {\n",
       "        vertical-align: middle;\n",
       "    }\n",
       "\n",
       "    .dataframe tbody tr th {\n",
       "        vertical-align: top;\n",
       "    }\n",
       "\n",
       "    .dataframe thead th {\n",
       "        text-align: right;\n",
       "    }\n",
       "</style>\n",
       "<table border=\"1\" class=\"dataframe\">\n",
       "  <thead>\n",
       "    <tr style=\"text-align: right;\">\n",
       "      <th></th>\n",
       "      <th>Polozaj</th>\n",
       "      <th>Starost</th>\n",
       "      <th>Ekipa</th>\n",
       "      <th>Zmaga</th>\n",
       "      <th>Verjetnost</th>\n",
       "    </tr>\n",
       "  </thead>\n",
       "  <tbody>\n",
       "    <tr>\n",
       "      <th>0</th>\n",
       "      <td>sredina</td>\n",
       "      <td>34</td>\n",
       "      <td>rdeča</td>\n",
       "      <td>da</td>\n",
       "      <td>0.728796</td>\n",
       "    </tr>\n",
       "    <tr>\n",
       "      <th>1</th>\n",
       "      <td>sredina</td>\n",
       "      <td>37</td>\n",
       "      <td>modra</td>\n",
       "      <td>ne</td>\n",
       "      <td>0.073443</td>\n",
       "    </tr>\n",
       "    <tr>\n",
       "      <th>2</th>\n",
       "      <td>levo</td>\n",
       "      <td>38</td>\n",
       "      <td>modra</td>\n",
       "      <td>ne</td>\n",
       "      <td>0.367767</td>\n",
       "    </tr>\n",
       "    <tr>\n",
       "      <th>3</th>\n",
       "      <td>sredina</td>\n",
       "      <td>49</td>\n",
       "      <td>zelena</td>\n",
       "      <td>ne</td>\n",
       "      <td>0.271946</td>\n",
       "    </tr>\n",
       "    <tr>\n",
       "      <th>4</th>\n",
       "      <td>desno</td>\n",
       "      <td>30</td>\n",
       "      <td>rdeča</td>\n",
       "      <td>da</td>\n",
       "      <td>0.375633</td>\n",
       "    </tr>\n",
       "  </tbody>\n",
       "</table>\n",
       "</div>"
      ],
      "text/plain": [
       "   Polozaj  Starost   Ekipa Zmaga  Verjetnost\n",
       "0  sredina       34   rdeča    da    0.728796\n",
       "1  sredina       37   modra    ne    0.073443\n",
       "2     levo       38   modra    ne    0.367767\n",
       "3  sredina       49  zelena    ne    0.271946\n",
       "4    desno       30   rdeča    da    0.375633"
      ]
     },
     "execution_count": 86,
     "metadata": {},
     "output_type": "execute_result"
    }
   ],
   "source": [
    "# naredimo kopijo podatkov brez določenih stolpcev\n",
    "df_q = df_tmp.copy().drop(['Starost_Rang', 'Verjetnost_Rang', 'VerjetnostZmage_Rang'], axis=1)\n",
    "\n",
    "# uporabimo funkcijo .query() za izbor igralcev, ki so stari več kot 25 let in izberimo prvih 5\n",
    "\n",
    "# pogoj navedemo v enojnih narekovajih, stolpec pa znotraj posebnih narekovajev (``) \n",
    "df_q.query('`Starost` > 25').head(5)"
   ]
  },
  {
   "cell_type": "code",
   "execution_count": 90,
   "metadata": {},
   "outputs": [
    {
     "data": {
      "text/html": [
       "<div>\n",
       "<style scoped>\n",
       "    .dataframe tbody tr th:only-of-type {\n",
       "        vertical-align: middle;\n",
       "    }\n",
       "\n",
       "    .dataframe tbody tr th {\n",
       "        vertical-align: top;\n",
       "    }\n",
       "\n",
       "    .dataframe thead th {\n",
       "        text-align: right;\n",
       "    }\n",
       "</style>\n",
       "<table border=\"1\" class=\"dataframe\">\n",
       "  <thead>\n",
       "    <tr style=\"text-align: right;\">\n",
       "      <th></th>\n",
       "      <th>Polozaj</th>\n",
       "      <th>Starost</th>\n",
       "      <th>Ekipa</th>\n",
       "      <th>Zmaga</th>\n",
       "      <th>Verjetnost</th>\n",
       "    </tr>\n",
       "  </thead>\n",
       "  <tbody>\n",
       "    <tr>\n",
       "      <th>197</th>\n",
       "      <td>sredina</td>\n",
       "      <td>26</td>\n",
       "      <td>rdeča</td>\n",
       "      <td>da</td>\n",
       "      <td>0.953634</td>\n",
       "    </tr>\n",
       "    <tr>\n",
       "      <th>904</th>\n",
       "      <td>desno</td>\n",
       "      <td>25</td>\n",
       "      <td>rdeča</td>\n",
       "      <td>da</td>\n",
       "      <td>0.882663</td>\n",
       "    </tr>\n",
       "    <tr>\n",
       "      <th>1464</th>\n",
       "      <td>sredina</td>\n",
       "      <td>27</td>\n",
       "      <td>rdeča</td>\n",
       "      <td>da</td>\n",
       "      <td>0.855277</td>\n",
       "    </tr>\n",
       "    <tr>\n",
       "      <th>1519</th>\n",
       "      <td>sredina</td>\n",
       "      <td>25</td>\n",
       "      <td>rdeča</td>\n",
       "      <td>da</td>\n",
       "      <td>0.840098</td>\n",
       "    </tr>\n",
       "    <tr>\n",
       "      <th>1838</th>\n",
       "      <td>desno</td>\n",
       "      <td>25</td>\n",
       "      <td>rdeča</td>\n",
       "      <td>da</td>\n",
       "      <td>0.988162</td>\n",
       "    </tr>\n",
       "    <tr>\n",
       "      <th>...</th>\n",
       "      <td>...</td>\n",
       "      <td>...</td>\n",
       "      <td>...</td>\n",
       "      <td>...</td>\n",
       "      <td>...</td>\n",
       "    </tr>\n",
       "    <tr>\n",
       "      <th>9998484</th>\n",
       "      <td>desno</td>\n",
       "      <td>25</td>\n",
       "      <td>rdeča</td>\n",
       "      <td>da</td>\n",
       "      <td>0.813323</td>\n",
       "    </tr>\n",
       "    <tr>\n",
       "      <th>9998839</th>\n",
       "      <td>sredina</td>\n",
       "      <td>26</td>\n",
       "      <td>rdeča</td>\n",
       "      <td>da</td>\n",
       "      <td>0.952503</td>\n",
       "    </tr>\n",
       "    <tr>\n",
       "      <th>9999107</th>\n",
       "      <td>sredina</td>\n",
       "      <td>28</td>\n",
       "      <td>rdeča</td>\n",
       "      <td>da</td>\n",
       "      <td>0.875873</td>\n",
       "    </tr>\n",
       "    <tr>\n",
       "      <th>9999957</th>\n",
       "      <td>desno</td>\n",
       "      <td>27</td>\n",
       "      <td>rdeča</td>\n",
       "      <td>da</td>\n",
       "      <td>0.877774</td>\n",
       "    </tr>\n",
       "    <tr>\n",
       "      <th>9999964</th>\n",
       "      <td>desno</td>\n",
       "      <td>28</td>\n",
       "      <td>rdeča</td>\n",
       "      <td>da</td>\n",
       "      <td>0.826648</td>\n",
       "    </tr>\n",
       "  </tbody>\n",
       "</table>\n",
       "<p>39331 rows × 5 columns</p>\n",
       "</div>"
      ],
      "text/plain": [
       "         Polozaj  Starost  Ekipa Zmaga  Verjetnost\n",
       "197      sredina       26  rdeča    da    0.953634\n",
       "904        desno       25  rdeča    da    0.882663\n",
       "1464     sredina       27  rdeča    da    0.855277\n",
       "1519     sredina       25  rdeča    da    0.840098\n",
       "1838       desno       25  rdeča    da    0.988162\n",
       "...          ...      ...    ...   ...         ...\n",
       "9998484    desno       25  rdeča    da    0.813323\n",
       "9998839  sredina       26  rdeča    da    0.952503\n",
       "9999107  sredina       28  rdeča    da    0.875873\n",
       "9999957    desno       27  rdeča    da    0.877774\n",
       "9999964    desno       28  rdeča    da    0.826648\n",
       "\n",
       "[39331 rows x 5 columns]"
      ]
     },
     "execution_count": 90,
     "metadata": {},
     "output_type": "execute_result"
    }
   ],
   "source": [
    "# poskusimo še z več pogoji: igralci stari med 25 in 28, ki igrajo za rdečo ekipo in imajo vsaj 75% verjetnost zmage\n",
    "\n",
    "# uporabimo logično operacijo 'in' (uporabimo lahko \"and\" ali \"&\")\n",
    "df_q.query('`Starost` >= 25 and `Starost` <= 28 and `Ekipa` == \"rdeča\" and `Zmaga` == \"da\" and `Verjetnost` >= 0.75')"
   ]
  },
  {
   "cell_type": "code",
   "execution_count": 91,
   "metadata": {},
   "outputs": [
    {
     "data": {
      "text/html": [
       "<div>\n",
       "<style scoped>\n",
       "    .dataframe tbody tr th:only-of-type {\n",
       "        vertical-align: middle;\n",
       "    }\n",
       "\n",
       "    .dataframe tbody tr th {\n",
       "        vertical-align: top;\n",
       "    }\n",
       "\n",
       "    .dataframe thead th {\n",
       "        text-align: right;\n",
       "    }\n",
       "</style>\n",
       "<table border=\"1\" class=\"dataframe\">\n",
       "  <thead>\n",
       "    <tr style=\"text-align: right;\">\n",
       "      <th></th>\n",
       "      <th>Polozaj</th>\n",
       "      <th>Starost</th>\n",
       "      <th>Ekipa</th>\n",
       "      <th>Zmaga</th>\n",
       "      <th>Verjetnost</th>\n",
       "    </tr>\n",
       "  </thead>\n",
       "  <tbody>\n",
       "    <tr>\n",
       "      <th>638490</th>\n",
       "      <td>levo</td>\n",
       "      <td>26</td>\n",
       "      <td>rdeča</td>\n",
       "      <td>da</td>\n",
       "      <td>0.999997</td>\n",
       "    </tr>\n",
       "    <tr>\n",
       "      <th>2553477</th>\n",
       "      <td>sredina</td>\n",
       "      <td>27</td>\n",
       "      <td>rdeča</td>\n",
       "      <td>da</td>\n",
       "      <td>0.999987</td>\n",
       "    </tr>\n",
       "    <tr>\n",
       "      <th>6887193</th>\n",
       "      <td>levo</td>\n",
       "      <td>25</td>\n",
       "      <td>rdeča</td>\n",
       "      <td>da</td>\n",
       "      <td>0.999984</td>\n",
       "    </tr>\n",
       "    <tr>\n",
       "      <th>6000648</th>\n",
       "      <td>sredina</td>\n",
       "      <td>28</td>\n",
       "      <td>rdeča</td>\n",
       "      <td>da</td>\n",
       "      <td>0.999972</td>\n",
       "    </tr>\n",
       "    <tr>\n",
       "      <th>8052346</th>\n",
       "      <td>sredina</td>\n",
       "      <td>28</td>\n",
       "      <td>rdeča</td>\n",
       "      <td>da</td>\n",
       "      <td>0.999970</td>\n",
       "    </tr>\n",
       "  </tbody>\n",
       "</table>\n",
       "</div>"
      ],
      "text/plain": [
       "         Polozaj  Starost  Ekipa Zmaga  Verjetnost\n",
       "638490      levo       26  rdeča    da    0.999997\n",
       "2553477  sredina       27  rdeča    da    0.999987\n",
       "6887193     levo       25  rdeča    da    0.999984\n",
       "6000648  sredina       28  rdeča    da    0.999972\n",
       "8052346  sredina       28  rdeča    da    0.999970"
      ]
     },
     "execution_count": 91,
     "metadata": {},
     "output_type": "execute_result"
    }
   ],
   "source": [
    "# poglejmo še delovanje z veriženjem, kjer dobljene igralce uredimo padajoče po verjetnosti in izberemo prvih 5\n",
    "(df_q\n",
    " .query('`Starost` >= 25 & `Starost` <= 28 & `Ekipa` == \"rdeča\" & `Zmaga` == \"da\" & `Verjetnost` >= 0.75')\n",
    " .sort_values('Verjetnost', ascending=False)\n",
    " .head(5)\n",
    ")"
   ]
  }
 ],
 "metadata": {
  "kernelspec": {
   "display_name": "Python 3",
   "language": "python",
   "name": "python3"
  },
  "language_info": {
   "codemirror_mode": {
    "name": "ipython",
    "version": 3
   },
   "file_extension": ".py",
   "mimetype": "text/x-python",
   "name": "python",
   "nbconvert_exporter": "python",
   "pygments_lexer": "ipython3",
   "version": "3.12.3"
  }
 },
 "nbformat": 4,
 "nbformat_minor": 2
}
