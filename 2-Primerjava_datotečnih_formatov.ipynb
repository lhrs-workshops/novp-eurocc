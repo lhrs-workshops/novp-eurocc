{
 "cells": [
  {
   "cell_type": "markdown",
   "metadata": {},
   "source": [
    "# Primerjava datotečnih formatov velepodatkovnih zbirk\n",
    "\n",
    "Velepodatkovne zbirke najdemo v različnih oblikah. Pri tem so se skozi čas ustalili določeni datotečni formati, ki se pogosto uporabljajo. Takšen datotečni format je na primer CSV *(ang. comma-separated values)*, ki je zelo razširjen na področju podatkovne znanosti. V tej enoti si bomo pogledali različne datotečne formate, ki jih lahko uporabljamo za shranjevanje in izmenjavo velepodatkov. Preizkusili bomo njihovo učinkovitost, velikost in hitrost branja/pisanja ter jih na podlagi tega med seboj primerjali v sklopu knjižnice Pandas.\n",
    "\n",
    "## Ustvarjanje zbirke velepodatkov\n",
    "\n",
    "Najprej si bomo pripravili lastno funkcijo za ustvarjanje poljubno velike zbirke velepodatkov. Ustvarili bomo velepodatke z opisi igralcev v ekipah. Igralec bo imel naslednje lastnosti:\n",
    "\n",
    "* Položaj (levo, sredina, desno)\n",
    "* Starost (vrednost med 18 in 50)\n",
    "* Ekipa (rdeča, modra, rumena, zelena)\n",
    "* Zmaga (da, ne)\n",
    "* Verjetnost (vrednost med 0 in 1)\n",
    "\n",
    "Z znanjem, ki ste ga pridobili v prejšnji enoti, bomo izvedli tudi optimizacijo podatkovnih tipov nad ustvarjeno zbirko velepodatkov."
   ]
  },
  {
   "cell_type": "code",
   "execution_count": null,
   "metadata": {},
   "outputs": [],
   "source": [
    "%pip install humanize --quiet"
   ]
  },
  {
   "cell_type": "code",
   "execution_count": 2,
   "metadata": {},
   "outputs": [
    {
     "name": "stdout",
     "output_type": "stream",
     "text": [
      "<class 'pandas.core.frame.DataFrame'>\n",
      "RangeIndex: 10000000 entries, 0 to 9999999\n",
      "Data columns (total 5 columns):\n",
      " #   Column      Dtype   \n",
      "---  ------      -----   \n",
      " 0   Polozaj     category\n",
      " 1   Starost     uint8   \n",
      " 2   Ekipa       category\n",
      " 3   Zmaga       object  \n",
      " 4   Verjetnost  float32 \n",
      "dtypes: category(2), float32(1), object(1), uint8(1)\n",
      "memory usage: 143.1+ MB\n"
     ]
    },
    {
     "data": {
      "text/html": [
       "<div>\n",
       "<style scoped>\n",
       "    .dataframe tbody tr th:only-of-type {\n",
       "        vertical-align: middle;\n",
       "    }\n",
       "\n",
       "    .dataframe tbody tr th {\n",
       "        vertical-align: top;\n",
       "    }\n",
       "\n",
       "    .dataframe thead th {\n",
       "        text-align: right;\n",
       "    }\n",
       "</style>\n",
       "<table border=\"1\" class=\"dataframe\">\n",
       "  <thead>\n",
       "    <tr style=\"text-align: right;\">\n",
       "      <th></th>\n",
       "      <th>Polozaj</th>\n",
       "      <th>Starost</th>\n",
       "      <th>Ekipa</th>\n",
       "      <th>Zmaga</th>\n",
       "      <th>Verjetnost</th>\n",
       "    </tr>\n",
       "  </thead>\n",
       "  <tbody>\n",
       "    <tr>\n",
       "      <th>0</th>\n",
       "      <td>sredina</td>\n",
       "      <td>27</td>\n",
       "      <td>rdeča</td>\n",
       "      <td>ne</td>\n",
       "      <td>0.411357</td>\n",
       "    </tr>\n",
       "    <tr>\n",
       "      <th>1</th>\n",
       "      <td>levo</td>\n",
       "      <td>36</td>\n",
       "      <td>rdeča</td>\n",
       "      <td>ne</td>\n",
       "      <td>0.810849</td>\n",
       "    </tr>\n",
       "    <tr>\n",
       "      <th>2</th>\n",
       "      <td>sredina</td>\n",
       "      <td>28</td>\n",
       "      <td>rumena</td>\n",
       "      <td>ne</td>\n",
       "      <td>0.358713</td>\n",
       "    </tr>\n",
       "    <tr>\n",
       "      <th>3</th>\n",
       "      <td>desno</td>\n",
       "      <td>46</td>\n",
       "      <td>rdeča</td>\n",
       "      <td>ne</td>\n",
       "      <td>0.509294</td>\n",
       "    </tr>\n",
       "    <tr>\n",
       "      <th>4</th>\n",
       "      <td>levo</td>\n",
       "      <td>26</td>\n",
       "      <td>zelena</td>\n",
       "      <td>da</td>\n",
       "      <td>0.376968</td>\n",
       "    </tr>\n",
       "  </tbody>\n",
       "</table>\n",
       "</div>"
      ],
      "text/plain": [
       "   Polozaj  Starost   Ekipa Zmaga  Verjetnost\n",
       "0  sredina       27   rdeča    ne    0.411357\n",
       "1     levo       36   rdeča    ne    0.810849\n",
       "2  sredina       28  rumena    ne    0.358713\n",
       "3    desno       46   rdeča    ne    0.509294\n",
       "4     levo       26  zelena    da    0.376968"
      ]
     },
     "execution_count": 2,
     "metadata": {},
     "output_type": "execute_result"
    }
   ],
   "source": [
    "import pandas as pd\n",
    "import numpy as np\n",
    "import humanize\n",
    "import os\n",
    "\n",
    "def generate_data(size):\n",
    "    df = pd.DataFrame()\n",
    "    df['Polozaj'] = np.random.choice(['levo', 'sredina', 'desno'], size)\n",
    "    df['Starost'] = np.random.randint(18, 50, size)\n",
    "    df['Ekipa'] = np.random.choice(['rdeča', 'modra', 'rumena', 'zelena'], size)\n",
    "    df['Zmaga'] = np.random.choice(['da', 'ne'], size)\n",
    "    df['Verjetnost'] = np.random.uniform(0, 1, size)\n",
    "    return df\n",
    "\n",
    "def optimize_types(df):\n",
    "    df['Polozaj'] = df['Polozaj'].astype('category')\n",
    "    df['Ekipa'] = df['Ekipa'].astype('category')\n",
    "    df['Starost'] = df['Starost'].astype('uint8')\n",
    "    df['Verjetnost'] = df['Verjetnost'].astype('float32')\n",
    "    df['Zmaga'].map({'da': True, 'ne': False})\n",
    "    return df\n",
    "\n",
    "def get_file_size(path):\n",
    "    return humanize.naturalsize(os.path.getsize(path))\n",
    "\n",
    "df = optimize_types(generate_data(10_000_000))\n",
    "\n",
    "df.info()\n",
    "df.head()"
   ]
  },
  {
   "cell_type": "markdown",
   "metadata": {},
   "source": [
    "## CSV (comma-separated values)"
   ]
  },
  {
   "cell_type": "markdown",
   "metadata": {},
   "source": [
    "Ustvarjeno zbirko velepodatkov shranimo v format CSV in izmerimo čas shranjevanja, čas nalaganja in velikost datoteke."
   ]
  },
  {
   "cell_type": "code",
   "execution_count": 3,
   "metadata": {},
   "outputs": [
    {
     "name": "stdout",
     "output_type": "stream",
     "text": [
      "7.65 s ± 26.2 ms per loop (mean ± std. dev. of 7 runs, 1 loop each)\n",
      "2.57 s ± 20.4 ms per loop (mean ± std. dev. of 7 runs, 1 loop each)\n"
     ]
    },
    {
     "data": {
      "text/plain": [
       "'307.1 MB'"
      ]
     },
     "execution_count": 3,
     "metadata": {},
     "output_type": "execute_result"
    }
   ],
   "source": [
    "# čas shranjevanja CSV\n",
    "%timeit df.to_csv('dataset_csv.csv', index=False)\n",
    "\n",
    "# čas branja CSV\n",
    "%timeit df = pd.read_csv('dataset_csv.csv')\n",
    "\n",
    "# velikost datoteke CSV\n",
    "get_file_size('dataset_csv.csv')"
   ]
  },
  {
   "cell_type": "markdown",
   "metadata": {},
   "source": [
    "Zapišimo dobljene rezultate v tabelo in v slovar (dictionary), da bomo lažje izvedli primerjavo v nadaljevanju.\n",
    "\n",
    "| **Format** | **Shranjevanje** | **Branje** | **Velikost** |\n",
    "| ---------- | ---------------- | ---------- | ------------ |\n",
    "| CSV | 7650ms | 2570ms | 307,1 MB |\n",
    "\n"
   ]
  },
  {
   "cell_type": "code",
   "execution_count": 14,
   "metadata": {},
   "outputs": [],
   "source": [
    "measurements = {} \n",
    "\n",
    "measurements['csv'] = {\n",
    "        'save': 7650,\n",
    "        'read': 2570,\n",
    "        'size_MB': 307.1\n",
    "    }"
   ]
  },
  {
   "cell_type": "markdown",
   "metadata": {},
   "source": [
    "## Pickle\n",
    "\n",
    "Pickle je format v programskem jeziku Python, ki omogoča shranjevanje vsebine spremenljivk v binarno obliko. S tem lahko enostavno shranimo vrednosti razredov, seznamov ali drugih podatkovnih struktur programskega jezika Python. To se izkaže kot zelo uporabno za prenos podatkov in tudi velepodatkov. Ker so podatkovne strukture knjižnice Pandas prav tako objekti programskega jezika Python, jih lahko shranimo v format Pickle. Knjižnica Pandas ima za to tudi namenski funkciji ``.to_pickle()`` in ``.read_pickle()``, ki omogočata shranjevanje in branje v ta datotečni format. V nadaljevanju si poglejmo kako se to obnese."
   ]
  },
  {
   "cell_type": "code",
   "execution_count": 5,
   "metadata": {},
   "outputs": [
    {
     "name": "stdout",
     "output_type": "stream",
     "text": [
      "1.92 s ± 28.7 ms per loop (mean ± std. dev. of 7 runs, 1 loop each)\n",
      "512 ms ± 18.7 ms per loop (mean ± std. dev. of 7 runs, 1 loop each)\n"
     ]
    },
    {
     "data": {
      "text/plain": [
       "'120.0 MB'"
      ]
     },
     "execution_count": 5,
     "metadata": {},
     "output_type": "execute_result"
    }
   ],
   "source": [
    "# čas shranjevanja Pickle\n",
    "%timeit df.to_pickle('dataset_pickle.pkl')\n",
    "\n",
    "# čas branja Pickle\n",
    "%timeit df = pd.read_pickle('dataset_pickle.pkl')\n",
    "\n",
    "# velikost datoteke Pickle\n",
    "get_file_size('dataset_pickle.pkl')"
   ]
  },
  {
   "cell_type": "markdown",
   "metadata": {},
   "source": [
    "Zapišimo dobljene rezultate v tabelo in v slovar (dictionary), da bomo lažje izvedli primerjavo v nadaljevanju.\n",
    "\n",
    "| **Format** | **Shranjevanje** | **Branje** | **Velikost** |\n",
    "| ---------- | ---------------- | ---------- | ------------ |\n",
    "| CSV | 7650ms | 2570ms | 307,1 MB |\n",
    "| Pickle | 1920ms | 512ms | 120 MB |\n",
    "\n",
    "Opazimo, da je hitrost shranjevanja in branja bistveno boljša, prav tako pa je velikost datoteke manjša. \n",
    "\n"
   ]
  },
  {
   "cell_type": "code",
   "execution_count": 15,
   "metadata": {},
   "outputs": [],
   "source": [
    "measurements['pickle'] = {\n",
    "    'save': 1920,\n",
    "    'read': 512,\n",
    "    'size_MB': 120\n",
    "}"
   ]
  },
  {
   "cell_type": "markdown",
   "metadata": {},
   "source": [
    "## Parquet\n",
    "\n",
    "Datotečni format Apache Parquet je odprtokodni format in je namenjen učinkovitemu delu z večjimi količinami podatkov. Podpira tudi kompresijo in je podprt v več programskih jezikih - tudi v Python-u. Parquet je datotečni format, ki se ponavadi uporablja za obdelavo, shranjevanje in prenos velepodatkov, saj je podoben drugim podobnim formatom kot sta RCFile in ORC (Apache Hadoop). Ta datotečni format je namenjen shranjevanju poljubnih podatkov, hkrati pa je njegova značilnost nizka poraba diskovnega pomnilnika. Knjižnica Pandas omogoča uporabo tega formata s funkcijama ``.to_parquet()`` in ``.read_parquet()``, vendar je pred uporabo potrebno namestiti podporno knjižnico `pyarrow`. Preizkusimo ta format in ga primerjajmo z ostalimi. "
   ]
  },
  {
   "cell_type": "code",
   "execution_count": null,
   "metadata": {},
   "outputs": [],
   "source": [
    "# namestimo podporno knjižnico pyarrow\n",
    "%pip install pyarrow --quiet"
   ]
  },
  {
   "cell_type": "code",
   "execution_count": 8,
   "metadata": {},
   "outputs": [
    {
     "name": "stdout",
     "output_type": "stream",
     "text": [
      "1.1 s ± 11.1 ms per loop (mean ± std. dev. of 7 runs, 1 loop each)\n",
      "304 ms ± 14.1 ms per loop (mean ± std. dev. of 7 runs, 1 loop each)\n"
     ]
    },
    {
     "data": {
      "text/plain": [
       "'58.8 MB'"
      ]
     },
     "execution_count": 8,
     "metadata": {},
     "output_type": "execute_result"
    }
   ],
   "source": [
    "# čas shranjevanja Parquet\n",
    "%timeit df.to_parquet('dataset_parquet.parquet')\n",
    "\n",
    "# čas branja Parquet\n",
    "%timeit df = pd.read_parquet('dataset_parquet.parquet')\n",
    "\n",
    "# velikost datoteke Parquet\n",
    "get_file_size('dataset_parquet.parquet')"
   ]
  },
  {
   "cell_type": "markdown",
   "metadata": {},
   "source": [
    "Zapišimo dobljene rezultate v tabelo in v slovar (dictionary), da bomo lažje izvedli primerjavo v nadaljevanju.\n",
    "\n",
    "| **Format** | **Shranjevanje** | **Branje** | **Velikost** |\n",
    "| ---------- | ---------------- | ---------- | ------------ |\n",
    "| CSV | 7650ms | 2570ms | 307,1 MB |\n",
    "| Pickle | 1920ms | 512ms | 120 MB |\n",
    "| Parquet | 1100ms | 304ms | 58,8 MB |\n",
    "\n",
    "Opazimo, da je hitrost shranjevanja in branja boljša od CSV in Pickle, prav tako pa je velikost datoteke manjša. \n",
    "\n"
   ]
  },
  {
   "cell_type": "code",
   "execution_count": 16,
   "metadata": {},
   "outputs": [],
   "source": [
    "measurements['parquet'] = {\n",
    "    'save': 1100,\n",
    "    'read': 304,\n",
    "    'size_MB': 58.8\n",
    "}"
   ]
  },
  {
   "cell_type": "markdown",
   "metadata": {},
   "source": [
    "## Feather\n",
    "\n",
    "Datotečni format Feather je še en format, ki je namenjen shranjevanju tabel formata Apache Arrow, ki se ponavadi uporabljajo za zaledne strukture v knjižnicah kot je Pandas. Tudi ta format se pogosto uporablja za obdelavo, shranjevanje in izmenjavo velepodatkov. Knjižnica Pandas za delo z datotečnim formatom Feather omogoča funkciji ``.to_feather()`` in ``.read_feather()``, obe pa podobno kot pri Parquet, potrebujeta podporno knjižnico ``pyarrow``. Preizkusimo še ta format z našo podatkovno zbirko.\n"
   ]
  },
  {
   "cell_type": "code",
   "execution_count": 10,
   "metadata": {},
   "outputs": [
    {
     "name": "stdout",
     "output_type": "stream",
     "text": [
      "352 ms ± 5.45 ms per loop (mean ± std. dev. of 7 runs, 1 loop each)\n",
      "203 ms ± 8.89 ms per loop (mean ± std. dev. of 7 runs, 1 loop each)\n"
     ]
    },
    {
     "data": {
      "text/plain": [
       "'111.2 MB'"
      ]
     },
     "execution_count": 10,
     "metadata": {},
     "output_type": "execute_result"
    }
   ],
   "source": [
    "# čas shranjevanja Feather\n",
    "%timeit df.to_feather('dataset_feather.feather')\n",
    "\n",
    "# čas branja Feather\n",
    "%timeit df = pd.read_feather('dataset_feather.feather')\n",
    "\n",
    "# velikost datoteke Feather\n",
    "get_file_size('dataset_feather.feather')"
   ]
  },
  {
   "cell_type": "markdown",
   "metadata": {},
   "source": [
    "Zapišimo dobljene rezultate v tabelo in v slovar (dictionary), da bomo lažje izvedli primerjavo v nadaljevanju.\n",
    "\n",
    "| **Format** | **Shranjevanje** | **Branje** | **Velikost** |\n",
    "| ---------- | ---------------- | ---------- | ------------ |\n",
    "| CSV | 7650ms | 2570ms | 307,1 MB |\n",
    "| Pickle | 1920ms | 512ms | 120 MB |\n",
    "| Parquet | 1100ms | 304ms | 58,8 MB |\n",
    "| Feather | 352ms | 203ms | 111,2 MB |\n",
    "\n",
    "Opazimo, da je hitrost shranjevanja in branja hitrejša od CSV, Pickle in Parquet, velikost datoteke pa je večja od Parquet. Vidimo torej, da so nekateri datotečni formati namenjeni hitremu shranjevanju in branju velepodatkov, nekateri pa hitrejši izmenjavi velepdoatkov.\n",
    "\n"
   ]
  },
  {
   "cell_type": "code",
   "execution_count": 17,
   "metadata": {},
   "outputs": [],
   "source": [
    "measurements['feather'] = {\n",
    "    'save': 352,\n",
    "    'read': 203,\n",
    "    'size_MB': 111.2\n",
    "}"
   ]
  },
  {
   "cell_type": "markdown",
   "metadata": {},
   "source": [
    "## Primerjava CSV, Pickle, Parquet in Feather\n",
    "\n",
    "Z meritvami smo shranili povprečne čase shranjevanja, branja in velikosti naše ustvarjene velepodatkovne zbirke. Za boljšo predstavo izrišimo grafe in primerjajmo različne datotečne formate."
   ]
  },
  {
   "cell_type": "code",
   "execution_count": null,
   "metadata": {},
   "outputs": [],
   "source": [
    "%pip install matplotlib --quiet"
   ]
  },
  {
   "cell_type": "code",
   "execution_count": 18,
   "metadata": {},
   "outputs": [
    {
     "data": {
      "image/png": "[encoded data removed]",
      "text/plain": [
       "<Figure size 1500x500 with 3 Axes>"
      ]
     },
     "metadata": {},
     "output_type": "display_data"
    }
   ],
   "source": [
    "%matplotlib inline\n",
    "import matplotlib.pyplot as plt\n",
    "\n",
    "fig, ax = plt.subplots(1, 3, figsize=(15, 5))\n",
    "\n",
    "formats = measurements.keys()\n",
    "measures = measurements['csv'].keys()\n",
    "\n",
    "for i, measure in enumerate(measures):\n",
    "    #ax[i].bar(formats, [measurements[format][i] for format in formats])\n",
    "    ax[i].set_title(measure)\n",
    "    ax[i].set_ylabel('Čas (ms)')\n",
    "    ax[i].grid()\n",
    "\n",
    "    for format in formats:\n",
    "        ax[i].bar(format, measurements[format][measure], label=format)\n",
    "\n"
   ]
  },
  {
   "cell_type": "markdown",
   "metadata": {},
   "source": [
    "## Drugi datotečni formati v Pandas\n",
    "\n",
    "Knjižnica Pandas omogoča delo še z drugimi datotečnimi formati. Med te spadajo:\n",
    "\n",
    "* [Microsoft Excel](https://pandas.pydata.org/docs/reference/api/pandas.read_excel.html#pandas.read_excel)\n",
    "* [JSON](https://pandas.pydata.org/docs/reference/api/pandas.read_json.html#pandas.read_json)\n",
    "* [HTML](https://pandas.pydata.org/docs/reference/api/pandas.read_html.html#pandas.read_html)\n",
    "* [XML](https://pandas.pydata.org/docs/reference/api/pandas.read_xml.html#pandas.read_xml)\n",
    "* [HDF5](https://pandas.pydata.org/docs/reference/api/pandas.read_hdf.html#pandas.read_hdf)\n",
    "* [ORC](https://pandas.pydata.org/docs/reference/api/pandas.read_orc.html#pandas.read_orc)\n",
    "* [SAS](https://pandas.pydata.org/docs/reference/api/pandas.read_sas.html#pandas.read_sas)\n",
    "* [SPSS](https://pandas.pydata.org/docs/reference/api/pandas.read_spss.html#pandas.read_spss)\n",
    "* [SQL](https://pandas.pydata.org/docs/reference/api/pandas.read_sql.html#pandas.read_sql)\n",
    "* [Google BigQuery](https://pandas.pydata.org/docs/reference/api/pandas.read_gbq.html#pandas.read_gbq)\n",
    "* [STATA](https://pandas.pydata.org/docs/reference/api/pandas.read_stata.html#pandas.read_stata)"
   ]
  }
 ],
 "metadata": {
  "kernelspec": {
   "display_name": "Python 3",
   "language": "python",
   "name": "python3"
  },
  "language_info": {
   "codemirror_mode": {
    "name": "ipython",
    "version": 3
   },
   "file_extension": ".py",
   "mimetype": "text/x-python",
   "name": "python",
   "nbconvert_exporter": "python",
   "pygments_lexer": "ipython3",
   "version": "3.12.3"
  }
 },
 "nbformat": 4,
 "nbformat_minor": 2
}
